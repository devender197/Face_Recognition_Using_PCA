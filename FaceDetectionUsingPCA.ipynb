{
 "cells": [
  {
   "cell_type": "code",
   "execution_count": 1,
   "metadata": {},
   "outputs": [],
   "source": [
    "import numpy as np\n",
    "import os\n",
    "from PIL import Image \n",
    "import numpy as np\n",
    "import PIL\n",
    "import re\n",
    "from matplotlib import pyplot as plt\n",
    "from sklearn.preprocessing import normalize "
   ]
  },
  {
   "cell_type": "code",
   "execution_count": 2,
   "metadata": {},
   "outputs": [],
   "source": [
    "def read_pgm(filename, byteorder='>'):\n",
    "    with open(filename, 'rb') as f:\n",
    "        buffer = f.read()\n",
    "    try:\n",
    "        header, width, height, maxval = re.search(\n",
    "            b\"(^P5\\s(?:\\s*#.*[\\r\\n])*\"\n",
    "            b\"(\\d+)\\s(?:\\s*#.*[\\r\\n])*\"\n",
    "            b\"(\\d+)\\s(?:\\s*#.*[\\r\\n])*\"\n",
    "            b\"(\\d+)\\s(?:\\s*#.*[\\r\\n]\\s)*)\", buffer).groups()\n",
    "    except AttributeError:\n",
    "        raise ValueError(\"Not a raw PGM file: '%s'\" % filename)\n",
    "    return np.frombuffer(buffer,\n",
    "                            dtype='u1' if int(maxval) < 256 else byteorder+'u2',\n",
    "                            count=int(width)*int(height),\n",
    "                            offset=len(header)\n",
    "                            ).reshape((int(height), int(width)))"
   ]
  },
  {
   "cell_type": "code",
   "execution_count": 6,
   "metadata": {},
   "outputs": [],
   "source": [
    "features = []\n",
    "for i in range(4):\n",
    "    for file in os.listdir(\"faces/s0\" + str(i+1)):\n",
    "        image = read_pgm(\"faces/s0\" + str(i+1) + '/' + file, byteorder='<')\n",
    "        # print(np.shape(image))\n",
    "        features.append(image.flatten())"
   ]
  },
  {
   "cell_type": "code",
   "execution_count": 7,
   "metadata": {},
   "outputs": [
    {
     "data": {
      "text/plain": [
       "20"
      ]
     },
     "execution_count": 7,
     "metadata": {},
     "output_type": "execute_result"
    }
   ],
   "source": [
    "# features shape\n",
    "len(features)"
   ]
  },
  {
   "cell_type": "code",
   "execution_count": 10,
   "metadata": {},
   "outputs": [],
   "source": [
    "# making data mean centered\n",
    "N = len(features)\n",
    "features = np.asarray(features)\n",
    "features = np.reshape(features, (len(features),112*92))\n",
    "mean = np.asarray([np.mean(features, axis=0)])\n",
    "X = features - mean"
   ]
  },
  {
   "cell_type": "code",
   "execution_count": 11,
   "metadata": {},
   "outputs": [],
   "source": [
    "# EigenValue computation using low dimensional matrix\n",
    "eignMat = (np.dot(X, X.T))/float(N)\n",
    "eigenValues, init_eigenVec = np.linalg.eig(eignMat)\n",
    "eigenValues = np.abs(eigenValues)"
   ]
  },
  {
   "cell_type": "code",
   "execution_count": 52,
   "metadata": {},
   "outputs": [
    {
     "data": {
      "text/plain": [
       "(20, 20)"
      ]
     },
     "execution_count": 52,
     "metadata": {},
     "output_type": "execute_result"
    }
   ],
   "source": [
    "init_eigenVec.shape"
   ]
  },
  {
   "cell_type": "code",
   "execution_count": 55,
   "metadata": {},
   "outputs": [
    {
     "data": {
      "text/plain": [
       "(20,)"
      ]
     },
     "execution_count": 55,
     "metadata": {},
     "output_type": "execute_result"
    }
   ],
   "source": [
    "eigenValues.shape"
   ]
  },
  {
   "cell_type": "code",
   "execution_count": 12,
   "metadata": {},
   "outputs": [],
   "source": [
    "# calculating eigen vectors from data matrix\n",
    "eigenVectors = np.dot(X.transpose(), init_eigenVec)\n",
    "eigenVectors = eigenVectors.transpose()"
   ]
  },
  {
   "cell_type": "code",
   "execution_count": 53,
   "metadata": {},
   "outputs": [
    {
     "data": {
      "text/plain": [
       "(20, 10304)"
      ]
     },
     "execution_count": 53,
     "metadata": {},
     "output_type": "execute_result"
    }
   ],
   "source": [
    "eigenVectors.shape"
   ]
  },
  {
   "cell_type": "code",
   "execution_count": 14,
   "metadata": {},
   "outputs": [],
   "source": [
    "# sorting eigen values in descending order\n",
    "index = eigenValues.argsort()[::-1]  \n",
    "eigenValues = eigenValues[index]\n",
    "eigenVectors = eigenVectors[index,:]\n",
    "for count in range(len(eigenVectors)):\n",
    "    eigenVectors[count] = eigenVectors[count]/float(np.linalg.norm(eigenVectors[count]))"
   ]
  },
  {
   "cell_type": "code",
   "execution_count": 15,
   "metadata": {},
   "outputs": [],
   "source": [
    "# using only required eigen values    \n",
    "maxEigens = eigenValues[0:eigenValThreshold]\n",
    "maxVectors = eigenVectors[0:eigenValThreshold]"
   ]
  },
  {
   "cell_type": "code",
   "execution_count": 16,
   "metadata": {},
   "outputs": [],
   "source": [
    "# using only required eigen values \n",
    "eigenValThreshold = 20\n",
    "maxEigens = eigenValues[0:eigenValThreshold]\n",
    "maxVectors = eigenVectors[0:eigenValThreshold]"
   ]
  },
  {
   "cell_type": "code",
   "execution_count": 17,
   "metadata": {},
   "outputs": [],
   "source": [
    "# Reconstructing the image ‘face input 1.pgm’ and calculating mean squared error for different dimensions\n",
    "def meanSquaredError(originalImage, reconstructedImage):\n",
    "    return np.dot((originalImage - reconstructedImage), (originalImage - reconstructedImage))"
   ]
  },
  {
   "cell_type": "code",
   "execution_count": 46,
   "metadata": {},
   "outputs": [
    {
     "data": {
      "image/png": "[encoded data removed]",
      "text/plain": [
       "<Figure size 432x288 with 1 Axes>"
      ]
     },
     "metadata": {
      "needs_background": "light"
     },
     "output_type": "display_data"
    }
   ],
   "source": [
    "testImageOne = np.reshape(read_pgm(\"faces/s01/10035.pgm\", byteorder='<'),(24*24) )\n",
    "I1 = np.reshape(testImageOne,  (24,24))\n",
    "plt.imshow(I1, cmap='Greys_r')\n",
    "plt.show()"
   ]
  },
  {
   "cell_type": "code",
   "execution_count": 42,
   "metadata": {},
   "outputs": [
    {
     "data": {
      "image/png": "[encoded data removed]",
      "text/plain": [
       "<Figure size 432x288 with 1 Axes>"
      ]
     },
     "metadata": {
      "needs_background": "light"
     },
     "output_type": "display_data"
    },
    {
     "name": "stdout",
     "output_type": "stream",
     "text": [
      "Mean squared error for the max eigen value =  13237025.21844581\n"
     ]
    }
   ],
   "source": [
    "testImageOne = np.reshape(read_pgm(\"faces/s05/1.pgm\", byteorder='<'),(112*92) )\n",
    "mean1 = mean[0]\n",
    "testImageOne = testImageOne - mean1\n",
    "\n",
    "# reconstructing using only one (max) eigen value\n",
    "eigenValThreshold = 1\n",
    "Eigens = eigenValues[0:eigenValThreshold]\n",
    "maxVectors = eigenVectors[0:eigenValThreshold]\n",
    "\n",
    "resultingImageOne = np.dot(np.dot(maxVectors, testImageOne.transpose()).transpose(), maxVectors)\n",
    "\n",
    "I1 = np.reshape(resultingImageOne,  (112,92))\n",
    "plt.imshow(I1, cmap='Greys_r')\n",
    "plt.show()\n",
    "print (\"Mean squared error for the max eigen value = \", meanSquaredError(testImageOne, resultingImageOne))"
   ]
  },
  {
   "cell_type": "code",
   "execution_count": 43,
   "metadata": {},
   "outputs": [
    {
     "data": {
      "image/png": "[encoded data removed]",
      "text/plain": [
       "<Figure size 432x288 with 1 Axes>"
      ]
     },
     "metadata": {
      "needs_background": "light"
     },
     "output_type": "display_data"
    },
    {
     "name": "stdout",
     "output_type": "stream",
     "text": [
      "Mean squared error for the top 15 eigen values =  7270882.752815888\n"
     ]
    },
    {
     "data": {
      "image/png": "[encoded data removed]",
      "text/plain": [
       "<Figure size 432x288 with 1 Axes>"
      ]
     },
     "metadata": {
      "needs_background": "light"
     },
     "output_type": "display_data"
    },
    {
     "name": "stdout",
     "output_type": "stream",
     "text": [
      "Mean squared error for all eigen values =  7541154.837005982\n"
     ]
    }
   ],
   "source": [
    "#reconstructing using top 15 eigen values\n",
    "eigenValThreshold = 15\n",
    "maxEigens = eigenValues[0:eigenValThreshold]\n",
    "maxVectors = eigenVectors[0:eigenValThreshold]\n",
    "\n",
    "resultingImageOne = np.dot(np.dot(maxVectors, testImageOne.transpose()).transpose(), maxVectors)\n",
    "\n",
    "I1 = np.reshape(resultingImageOne,  (112,92))\n",
    "plt.imshow(I1, cmap='Greys_r')\n",
    "plt.show()\n",
    "print (\"Mean squared error for the top 15 eigen values = \", meanSquaredError(testImageOne, resultingImageOne))\n",
    "\n",
    "#reconstructing using all the eigen values\n",
    "eigenValThreshold = 200\n",
    "maxEigens = eigenValues[0:eigenValThreshold]\n",
    "maxVectors = eigenVectors[0:eigenValThreshold]\n",
    "\n",
    "resultingImageOne = np.dot(np.dot(maxVectors, testImageOne.transpose()).transpose(), maxVectors)\n",
    "I1 = np.reshape(resultingImageOne,  (112,92))\n",
    "plt.imshow(I1, cmap='Greys_r')\n",
    "plt.show()\n",
    "print (\"Mean squared error for all eigen values = \", meanSquaredError(testImageOne, resultingImageOne))"
   ]
  },
  {
   "cell_type": "code",
   "execution_count": 57,
   "metadata": {},
   "outputs": [],
   "source": [
    "X = np.array([[2,-1,3],[3,4,-7],[1,2,4]])"
   ]
  },
  {
   "cell_type": "code",
   "execution_count": 59,
   "metadata": {},
   "outputs": [],
   "source": [
    "mean = np.asarray([np.mean(X, axis=0)])\n",
    "X1 = X - mean"
   ]
  },
  {
   "cell_type": "code",
   "execution_count": 63,
   "metadata": {},
   "outputs": [],
   "source": [
    "eignMat = (np.dot(X1, X1.T))/float(N)\n",
    "eigenValues, init_eigenVec = np.linalg.eig(eignMat)\n",
    "eigenValues = np.abs(eigenValues)"
   ]
  },
  {
   "cell_type": "code",
   "execution_count": 66,
   "metadata": {},
   "outputs": [
    {
     "data": {
      "text/plain": [
       "array([[-0.40033977,  0.71161418,  0.57735027],\n",
       "       [ 0.81644584, -0.00910268,  0.57735027],\n",
       "       [-0.41610607, -0.7025115 ,  0.57735027]])"
      ]
     },
     "execution_count": 66,
     "metadata": {},
     "output_type": "execute_result"
    }
   ],
   "source": [
    "init_eigenVec"
   ]
  },
  {
   "cell_type": "code",
   "execution_count": 69,
   "metadata": {},
   "outputs": [],
   "source": [
    "eigenVectors = np.dot(X1.transpose(), init_eigenVec)\n",
    "eigenVectors = eigenVectors.transpose()"
   ]
  },
  {
   "cell_type": "code",
   "execution_count": 70,
   "metadata": {},
   "outputs": [
    {
     "data": {
      "text/plain": [
       "array([[ 1.23255191e+00,  2.83391098e+00, -8.58056446e+00],\n",
       "       [ 6.93408815e-01, -2.15304790e+00, -6.11484679e-01],\n",
       "       [-2.22044605e-16, -5.23829148e-16,  8.88178420e-16]])"
      ]
     },
     "execution_count": 70,
     "metadata": {},
     "output_type": "execute_result"
    }
   ],
   "source": [
    "eigenVectors"
   ]
  },
  {
   "cell_type": "code",
   "execution_count": 71,
   "metadata": {},
   "outputs": [
    {
     "data": {
      "text/plain": [
       "array([[ 2, -1,  3],\n",
       "       [ 3,  4, -7],\n",
       "       [ 1,  2,  4]])"
      ]
     },
     "execution_count": 71,
     "metadata": {},
     "output_type": "execute_result"
    }
   ],
   "source": [
    "X"
   ]
  },
  {
   "cell_type": "code",
   "execution_count": 72,
   "metadata": {},
   "outputs": [
    {
     "data": {
      "text/plain": [
       "array([[ 0.13514667,  0.31073226, -0.9408405 ],\n",
       "       [ 0.29593038, -0.91886962, -0.26096711],\n",
       "       [-0.21051264, -0.49662389,  0.84205056]])"
      ]
     },
     "execution_count": 72,
     "metadata": {},
     "output_type": "execute_result"
    }
   ],
   "source": [
    "index = eigenValues.argsort()[::-1]  \n",
    "eigenValues = eigenValues[index]\n",
    "eigenVectors = eigenVectors[index,:]\n",
    "for count in range(len(eigenVectors)):\n",
    "    eigenVectors[count] = eigenVectors[count]/float(np.linalg.norm(eigenVectors[count]))\n",
    "eigenVectors"
   ]
  },
  {
   "cell_type": "code",
   "execution_count": null,
   "metadata": {},
   "outputs": [],
   "source": []
  }
 ],
 "metadata": {
  "kernelspec": {
   "display_name": "Python 3",
   "language": "python",
   "name": "python3"
  },
  "language_info": {
   "codemirror_mode": {
    "name": "ipython",
    "version": 3
   },
   "file_extension": ".py",
   "mimetype": "text/x-python",
   "name": "python",
   "nbconvert_exporter": "python",
   "pygments_lexer": "ipython3",
   "version": "3.7.3"
  }
 },
 "nbformat": 4,
 "nbformat_minor": 2
}
